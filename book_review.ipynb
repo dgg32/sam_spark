{
 "cells": [
  {
   "cell_type": "code",
   "execution_count": 1,
   "id": "670e497c-f215-405e-910a-01819127fd99",
   "metadata": {
    "execution": {
     "iopub.execute_input": "2022-01-17T13:56:50.145597Z",
     "iopub.status.busy": "2022-01-17T13:56:50.145363Z",
     "iopub.status.idle": "2022-01-17T13:57:20.399418Z",
     "shell.execute_reply": "2022-01-17T13:57:20.398765Z",
     "shell.execute_reply.started": "2022-01-17T13:56:50.145570Z"
    }
   },
   "outputs": [
    {
     "data": {
      "application/vnd.jupyter.widget-view+json": {
       "model_id": "93a4446a2a114834aa542def3b36fed3",
       "version_major": 2,
       "version_minor": 0
      },
      "text/plain": [
       "VBox()"
      ]
     },
     "metadata": {},
     "output_type": "display_data"
    },
    {
     "name": "stdout",
     "output_type": "stream",
     "text": [
      "Starting Spark application\n"
     ]
    },
    {
     "data": {
      "text/html": [
       "<table>\n",
       "<tr><th>ID</th><th>YARN Application ID</th><th>Kind</th><th>State</th><th>Spark UI</th><th>Driver log</th><th>Current session?</th></tr><tr><td>0</td><td>application_1642427053990_0001</td><td>pyspark</td><td>idle</td><td><a target=\"_blank\" href=\"http://ip-172-31-12-181.ec2.internal:20888/proxy/application_1642427053990_0001/\" class=\"emr-proxy-link\" emr-resource=\"j-16BG6ZV94KWW9\n",
       "\" application-id=\"application_1642427053990_0001\">Link</a></td><td><a target=\"_blank\" href=\"http://ip-172-31-5-132.ec2.internal:8042/node/containerlogs/container_1642427053990_0001_01_000001/livy\" >Link</a></td><td>✔</td></tr></table>"
      ],
      "text/plain": [
       "<IPython.core.display.HTML object>"
      ]
     },
     "metadata": {},
     "output_type": "display_data"
    },
    {
     "data": {
      "application/vnd.jupyter.widget-view+json": {
       "model_id": "",
       "version_major": 2,
       "version_minor": 0
      },
      "text/plain": [
       "FloatProgress(value=0.0, bar_style='info', description='Progress:', layout=Layout(height='25px', width='50%'),…"
      ]
     },
     "metadata": {},
     "output_type": "display_data"
    },
    {
     "name": "stdout",
     "output_type": "stream",
     "text": [
      "SparkSession available as 'spark'.\n"
     ]
    },
    {
     "data": {
      "application/vnd.jupyter.widget-view+json": {
       "model_id": "",
       "version_major": 2,
       "version_minor": 0
      },
      "text/plain": [
       "FloatProgress(value=0.0, bar_style='info', description='Progress:', layout=Layout(height='25px', width='50%'),…"
      ]
     },
     "metadata": {},
     "output_type": "display_data"
    }
   ],
   "source": [
    "from pyspark.sql import SparkSession\n",
    "from pyspark.sql import functions as F"
   ]
  },
  {
   "cell_type": "code",
   "execution_count": 2,
   "id": "c17369ff-ca80-473d-bc04-cdf244f7a3f7",
   "metadata": {
    "execution": {
     "iopub.execute_input": "2022-01-17T13:57:32.487550Z",
     "iopub.status.busy": "2022-01-17T13:57:32.487321Z",
     "iopub.status.idle": "2022-01-17T13:57:32.567387Z",
     "shell.execute_reply": "2022-01-17T13:57:32.566683Z",
     "shell.execute_reply.started": "2022-01-17T13:57:32.487525Z"
    }
   },
   "outputs": [
    {
     "data": {
      "application/vnd.jupyter.widget-view+json": {
       "model_id": "5a91a7cf0ed64e40abda047fed0a1ddb",
       "version_major": 2,
       "version_minor": 0
      },
      "text/plain": [
       "VBox()"
      ]
     },
     "metadata": {},
     "output_type": "display_data"
    },
    {
     "data": {
      "application/vnd.jupyter.widget-view+json": {
       "model_id": "",
       "version_major": 2,
       "version_minor": 0
      },
      "text/plain": [
       "FloatProgress(value=0.0, bar_style='info', description='Progress:', layout=Layout(height='25px', width='50%'),…"
      ]
     },
     "metadata": {},
     "output_type": "display_data"
    }
   ],
   "source": [
    "input_path = ('s3://amazon-reviews-pds/parquet/' +\n",
    "                  'product_category=Books/*.parquet')"
   ]
  },
  {
   "cell_type": "code",
   "execution_count": 3,
   "id": "cc88545d-84e9-4b69-9ba5-ba42e127b07b",
   "metadata": {
    "execution": {
     "iopub.execute_input": "2022-01-17T13:57:44.920611Z",
     "iopub.status.busy": "2022-01-17T13:57:44.920371Z",
     "iopub.status.idle": "2022-01-17T13:57:52.301201Z",
     "shell.execute_reply": "2022-01-17T13:57:52.300522Z",
     "shell.execute_reply.started": "2022-01-17T13:57:44.920584Z"
    }
   },
   "outputs": [
    {
     "data": {
      "application/vnd.jupyter.widget-view+json": {
       "model_id": "5721b1f38c244b6bac25963db63174e7",
       "version_major": 2,
       "version_minor": 0
      },
      "text/plain": [
       "VBox()"
      ]
     },
     "metadata": {},
     "output_type": "display_data"
    },
    {
     "data": {
      "application/vnd.jupyter.widget-view+json": {
       "model_id": "",
       "version_major": 2,
       "version_minor": 0
      },
      "text/plain": [
       "FloatProgress(value=0.0, bar_style='info', description='Progress:', layout=Layout(height='25px', width='50%'),…"
      ]
     },
     "metadata": {},
     "output_type": "display_data"
    }
   ],
   "source": [
    "df = spark.read.parquet(input_path)"
   ]
  },
  {
   "cell_type": "code",
   "execution_count": 4,
   "id": "769847e7-e87d-4703-b16f-a88823fa0ac2",
   "metadata": {
    "execution": {
     "iopub.execute_input": "2022-01-17T13:58:17.607826Z",
     "iopub.status.busy": "2022-01-17T13:58:17.607595Z",
     "iopub.status.idle": "2022-01-17T13:58:18.436425Z",
     "shell.execute_reply": "2022-01-17T13:58:18.435544Z",
     "shell.execute_reply.started": "2022-01-17T13:58:17.607800Z"
    }
   },
   "outputs": [
    {
     "data": {
      "application/vnd.jupyter.widget-view+json": {
       "model_id": "72686a9417ec4fdca47cd0145494c9fb",
       "version_major": 2,
       "version_minor": 0
      },
      "text/plain": [
       "VBox()"
      ]
     },
     "metadata": {},
     "output_type": "display_data"
    },
    {
     "data": {
      "application/vnd.jupyter.widget-view+json": {
       "model_id": "",
       "version_major": 2,
       "version_minor": 0
      },
      "text/plain": [
       "FloatProgress(value=0.0, bar_style='info', description='Progress:', layout=Layout(height='25px', width='50%'),…"
      ]
     },
     "metadata": {},
     "output_type": "display_data"
    }
   ],
   "source": [
    "book_agg = df.filter(df.verified_purchase == 'Y') \\\n",
    "        .groupBy('product_title') \\\n",
    "        .agg({'star_rating': 'avg', 'review_id': 'count'}) \\\n",
    "        .filter(F.col('count(review_id)') >= 500) \\\n",
    "        .sort(F.desc('avg(star_rating)')) \\\n",
    "        .select(F.col('product_title').alias('book_title'),\n",
    "                F.col('count(review_id)').alias('review_count'),\n",
    "                F.col('avg(star_rating)').alias('review_avg_stars'))"
   ]
  },
  {
   "cell_type": "code",
   "execution_count": 5,
   "id": "2618ab98-00f4-4303-9087-a2d4d70c7394",
   "metadata": {
    "execution": {
     "iopub.execute_input": "2022-01-17T13:58:28.676425Z",
     "iopub.status.busy": "2022-01-17T13:58:28.676187Z",
     "iopub.status.idle": "2022-01-17T13:59:00.126162Z",
     "shell.execute_reply": "2022-01-17T13:59:00.125519Z",
     "shell.execute_reply.started": "2022-01-17T13:58:28.676398Z"
    }
   },
   "outputs": [
    {
     "data": {
      "application/vnd.jupyter.widget-view+json": {
       "model_id": "01b044644f70410bb8913943e0afc185",
       "version_major": 2,
       "version_minor": 0
      },
      "text/plain": [
       "VBox()"
      ]
     },
     "metadata": {},
     "output_type": "display_data"
    },
    {
     "data": {
      "application/vnd.jupyter.widget-view+json": {
       "model_id": "",
       "version_major": 2,
       "version_minor": 0
      },
      "text/plain": [
       "FloatProgress(value=0.0, bar_style='info', description='Progress:', layout=Layout(height='25px', width='50%'),…"
      ]
     },
     "metadata": {},
     "output_type": "display_data"
    },
    {
     "name": "stdout",
     "output_type": "stream",
     "text": [
      "Row(book_title='Pete the Cat: I Love My White Shoes', review_count=1190, review_avg_stars=4.925210084033614)"
     ]
    }
   ],
   "source": [
    "book_agg.head()"
   ]
  },
  {
   "cell_type": "code",
   "execution_count": 6,
   "id": "adf2ad7c-f63f-49dd-9877-a276b1115104",
   "metadata": {
    "execution": {
     "iopub.execute_input": "2022-01-17T13:59:23.343703Z",
     "iopub.status.busy": "2022-01-17T13:59:23.343464Z",
     "iopub.status.idle": "2022-01-17T13:59:23.414792Z",
     "shell.execute_reply": "2022-01-17T13:59:23.414214Z",
     "shell.execute_reply.started": "2022-01-17T13:59:23.343678Z"
    }
   },
   "outputs": [
    {
     "data": {
      "application/vnd.jupyter.widget-view+json": {
       "model_id": "be32a0a309b541989cffd859fd0bb5d7",
       "version_major": 2,
       "version_minor": 0
      },
      "text/plain": [
       "VBox()"
      ]
     },
     "metadata": {},
     "output_type": "display_data"
    },
    {
     "data": {
      "application/vnd.jupyter.widget-view+json": {
       "model_id": "",
       "version_major": 2,
       "version_minor": 0
      },
      "text/plain": [
       "FloatProgress(value=0.0, bar_style='info', description='Progress:', layout=Layout(height='25px', width='50%'),…"
      ]
     },
     "metadata": {},
     "output_type": "display_data"
    }
   ],
   "source": [
    "output_path = 's3://neo4j-datathon-kendra/book-aggregates'"
   ]
  },
  {
   "cell_type": "code",
   "execution_count": 7,
   "id": "c182e1fa-37ec-428c-87da-ca603a2eeabc",
   "metadata": {
    "execution": {
     "iopub.execute_input": "2022-01-17T13:59:31.835448Z",
     "iopub.status.busy": "2022-01-17T13:59:31.835181Z",
     "iopub.status.idle": "2022-01-17T13:59:57.263997Z",
     "shell.execute_reply": "2022-01-17T13:59:57.263340Z",
     "shell.execute_reply.started": "2022-01-17T13:59:31.835420Z"
    }
   },
   "outputs": [
    {
     "data": {
      "application/vnd.jupyter.widget-view+json": {
       "model_id": "884e28f4b4314e5181c7484e26aafdc4",
       "version_major": 2,
       "version_minor": 0
      },
      "text/plain": [
       "VBox()"
      ]
     },
     "metadata": {},
     "output_type": "display_data"
    },
    {
     "data": {
      "application/vnd.jupyter.widget-view+json": {
       "model_id": "",
       "version_major": 2,
       "version_minor": 0
      },
      "text/plain": [
       "FloatProgress(value=0.0, bar_style='info', description='Progress:', layout=Layout(height='25px', width='50%'),…"
      ]
     },
     "metadata": {},
     "output_type": "display_data"
    }
   ],
   "source": [
    "book_agg.write.mode('overwrite')\\\n",
    "        .save(output_path)"
   ]
  },
  {
   "cell_type": "code",
   "execution_count": null,
   "id": "6e89d16f-45e4-47a9-86ea-e6143234cf4f",
   "metadata": {},
   "outputs": [],
   "source": []
  }
 ],
 "metadata": {
  "kernelspec": {
   "display_name": "PySpark",
   "language": "",
   "name": "pysparkkernel"
  },
  "language_info": {
   "codemirror_mode": {
    "name": "python",
    "version": 3
   },
   "mimetype": "text/x-python",
   "name": "pyspark",
   "pygments_lexer": "python3"
  }
 },
 "nbformat": 4,
 "nbformat_minor": 5
}
